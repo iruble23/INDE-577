{
 "cells": [
  {
   "cell_type": "markdown",
   "metadata": {},
   "source": [
    "## Gradient Descent Analysis on Termite Dataset\n",
    "\n",
    "This notebook applies the Gradient Descent algorithm to predict termite discovery using the initial and final weights of wood blocks. Our aim is to demonstrate how Gradient Descent, as an optimization technique, can be effectively utilized in a real-world ecological dataset.\n"
   ]
  },
  {
   "cell_type": "code",
   "execution_count": 2,
   "metadata": {},
   "outputs": [
    {
     "data": {
      "text/html": [
       "<div>\n",
       "<style scoped>\n",
       "    .dataframe tbody tr th:only-of-type {\n",
       "        vertical-align: middle;\n",
       "    }\n",
       "\n",
       "    .dataframe tbody tr th {\n",
       "        vertical-align: top;\n",
       "    }\n",
       "\n",
       "    .dataframe thead th {\n",
       "        text-align: right;\n",
       "    }\n",
       "</style>\n",
       "<table border=\"1\" class=\"dataframe\">\n",
       "  <thead>\n",
       "    <tr style=\"text-align: right;\">\n",
       "      <th></th>\n",
       "      <th>country</th>\n",
       "      <th>site</th>\n",
       "      <th>latitude</th>\n",
       "      <th>longitude</th>\n",
       "      <th>habitat_type</th>\n",
       "      <th>wood_used</th>\n",
       "      <th>wood_origin</th>\n",
       "      <th>N_pc</th>\n",
       "      <th>C_pc</th>\n",
       "      <th>P_pc</th>\n",
       "      <th>...</th>\n",
       "      <th>treatment</th>\n",
       "      <th>deployment_date</th>\n",
       "      <th>harvest_date</th>\n",
       "      <th>date_diff</th>\n",
       "      <th>initial_wt</th>\n",
       "      <th>final_wt</th>\n",
       "      <th>k_value</th>\n",
       "      <th>termite_discovery</th>\n",
       "      <th>fungal_damage</th>\n",
       "      <th>termite_damage</th>\n",
       "    </tr>\n",
       "  </thead>\n",
       "  <tbody>\n",
       "    <tr>\n",
       "      <th>0</th>\n",
       "      <td>Argentina</td>\n",
       "      <td>EntreRios</td>\n",
       "      <td>-32.771</td>\n",
       "      <td>-58.4512</td>\n",
       "      <td>Woody savannah</td>\n",
       "      <td>Pinus_radiata</td>\n",
       "      <td>Argentina</td>\n",
       "      <td>0.250763</td>\n",
       "      <td>46.553996</td>\n",
       "      <td>0.00737</td>\n",
       "      <td>...</td>\n",
       "      <td>C</td>\n",
       "      <td>10/11/2017</td>\n",
       "      <td>2018-11-15T00:00:00Z</td>\n",
       "      <td>400</td>\n",
       "      <td>128.253</td>\n",
       "      <td>124.455</td>\n",
       "      <td>0.027455</td>\n",
       "      <td>0.0</td>\n",
       "      <td>NaN</td>\n",
       "      <td>NaN</td>\n",
       "    </tr>\n",
       "    <tr>\n",
       "      <th>1</th>\n",
       "      <td>Argentina</td>\n",
       "      <td>EntreRios</td>\n",
       "      <td>-32.771</td>\n",
       "      <td>-58.4512</td>\n",
       "      <td>Woody savannah</td>\n",
       "      <td>Pinus_radiata</td>\n",
       "      <td>Argentina</td>\n",
       "      <td>0.250763</td>\n",
       "      <td>46.553996</td>\n",
       "      <td>0.00737</td>\n",
       "      <td>...</td>\n",
       "      <td>C</td>\n",
       "      <td>10/11/2017</td>\n",
       "      <td>2020-01-23T00:00:00Z</td>\n",
       "      <td>834</td>\n",
       "      <td>118.588</td>\n",
       "      <td>73.688</td>\n",
       "      <td>0.208385</td>\n",
       "      <td>0.0</td>\n",
       "      <td>NaN</td>\n",
       "      <td>NaN</td>\n",
       "    </tr>\n",
       "    <tr>\n",
       "      <th>2</th>\n",
       "      <td>Argentina</td>\n",
       "      <td>EntreRios</td>\n",
       "      <td>-32.771</td>\n",
       "      <td>-58.4512</td>\n",
       "      <td>Woody savannah</td>\n",
       "      <td>Pinus_radiata</td>\n",
       "      <td>Argentina</td>\n",
       "      <td>0.250763</td>\n",
       "      <td>46.553996</td>\n",
       "      <td>0.00737</td>\n",
       "      <td>...</td>\n",
       "      <td>T</td>\n",
       "      <td>10/11/2017</td>\n",
       "      <td>2018-11-15T00:00:00Z</td>\n",
       "      <td>400</td>\n",
       "      <td>139.887</td>\n",
       "      <td>102.724</td>\n",
       "      <td>0.281967</td>\n",
       "      <td>0.0</td>\n",
       "      <td>NaN</td>\n",
       "      <td>NaN</td>\n",
       "    </tr>\n",
       "    <tr>\n",
       "      <th>3</th>\n",
       "      <td>Argentina</td>\n",
       "      <td>EntreRios</td>\n",
       "      <td>-32.771</td>\n",
       "      <td>-58.4512</td>\n",
       "      <td>Woody savannah</td>\n",
       "      <td>Pinus_radiata</td>\n",
       "      <td>Argentina</td>\n",
       "      <td>0.250763</td>\n",
       "      <td>46.553996</td>\n",
       "      <td>0.00737</td>\n",
       "      <td>...</td>\n",
       "      <td>T</td>\n",
       "      <td>10/11/2017</td>\n",
       "      <td>2020-01-23T00:00:00Z</td>\n",
       "      <td>834</td>\n",
       "      <td>152.744</td>\n",
       "      <td>109.133</td>\n",
       "      <td>0.147238</td>\n",
       "      <td>0.0</td>\n",
       "      <td>NaN</td>\n",
       "      <td>NaN</td>\n",
       "    </tr>\n",
       "    <tr>\n",
       "      <th>4</th>\n",
       "      <td>Argentina</td>\n",
       "      <td>EntreRios</td>\n",
       "      <td>-32.771</td>\n",
       "      <td>-58.4512</td>\n",
       "      <td>Woody savannah</td>\n",
       "      <td>Pinus_radiata</td>\n",
       "      <td>Argentina</td>\n",
       "      <td>0.250763</td>\n",
       "      <td>46.553996</td>\n",
       "      <td>0.00737</td>\n",
       "      <td>...</td>\n",
       "      <td>C</td>\n",
       "      <td>10/11/2017</td>\n",
       "      <td>2018-11-15T00:00:00Z</td>\n",
       "      <td>400</td>\n",
       "      <td>163.892</td>\n",
       "      <td>155.943</td>\n",
       "      <td>0.045400</td>\n",
       "      <td>0.0</td>\n",
       "      <td>NaN</td>\n",
       "      <td>NaN</td>\n",
       "    </tr>\n",
       "  </tbody>\n",
       "</table>\n",
       "<p>5 rows × 27 columns</p>\n",
       "</div>"
      ],
      "text/plain": [
       "     country       site  latitude  longitude    habitat_type      wood_used  \\\n",
       "0  Argentina  EntreRios   -32.771   -58.4512  Woody savannah  Pinus_radiata   \n",
       "1  Argentina  EntreRios   -32.771   -58.4512  Woody savannah  Pinus_radiata   \n",
       "2  Argentina  EntreRios   -32.771   -58.4512  Woody savannah  Pinus_radiata   \n",
       "3  Argentina  EntreRios   -32.771   -58.4512  Woody savannah  Pinus_radiata   \n",
       "4  Argentina  EntreRios   -32.771   -58.4512  Woody savannah  Pinus_radiata   \n",
       "\n",
       "  wood_origin      N_pc       C_pc     P_pc  ...  treatment  deployment_date  \\\n",
       "0   Argentina  0.250763  46.553996  0.00737  ...          C       10/11/2017   \n",
       "1   Argentina  0.250763  46.553996  0.00737  ...          C       10/11/2017   \n",
       "2   Argentina  0.250763  46.553996  0.00737  ...          T       10/11/2017   \n",
       "3   Argentina  0.250763  46.553996  0.00737  ...          T       10/11/2017   \n",
       "4   Argentina  0.250763  46.553996  0.00737  ...          C       10/11/2017   \n",
       "\n",
       "           harvest_date  date_diff  initial_wt final_wt   k_value  \\\n",
       "0  2018-11-15T00:00:00Z        400     128.253  124.455  0.027455   \n",
       "1  2020-01-23T00:00:00Z        834     118.588   73.688  0.208385   \n",
       "2  2018-11-15T00:00:00Z        400     139.887  102.724  0.281967   \n",
       "3  2020-01-23T00:00:00Z        834     152.744  109.133  0.147238   \n",
       "4  2018-11-15T00:00:00Z        400     163.892  155.943  0.045400   \n",
       "\n",
       "  termite_discovery fungal_damage termite_damage  \n",
       "0               0.0           NaN            NaN  \n",
       "1               0.0           NaN            NaN  \n",
       "2               0.0           NaN            NaN  \n",
       "3               0.0           NaN            NaN  \n",
       "4               0.0           NaN            NaN  \n",
       "\n",
       "[5 rows x 27 columns]"
      ]
     },
     "execution_count": 2,
     "metadata": {},
     "output_type": "execute_result"
    }
   ],
   "source": [
    "import pandas as pd\n",
    "import numpy as np\n",
    "import matplotlib.pyplot as plt\n",
    "df = pd.read_csv(r'C:\\Users\\isabe\\INDE 577\\INDE-577\\global_termite_microbe_wd.csv')\n",
    "df.head()"
   ]
  },
  {
   "cell_type": "markdown",
   "metadata": {},
   "source": [
    "## Data Exploration\n",
    "\n",
    "Let's start by exploring our dataset. We'll check the structure of the data and any missing values.\n"
   ]
  },
  {
   "cell_type": "code",
   "execution_count": 3,
   "metadata": {},
   "outputs": [],
   "source": [
    "# Filter the data if necessary and handle missing values\n",
    "selected_columns = ['initial_wt', 'final_wt', 'termite_discovery']\n",
    "selected_data = df[selected_columns].dropna()\n",
    "\n",
    "# Normalizing the features (initial_wt and final_wt)\n",
    "selected_data[['initial_wt', 'final_wt']] = (selected_data[['initial_wt', 'final_wt']] - selected_data[['initial_wt', 'final_wt']].mean()) / selected_data[['initial_wt', 'final_wt']].std()\n"
   ]
  },
  {
   "cell_type": "markdown",
   "metadata": {},
   "source": [
    "## Implementing Gradient Descent\n",
    "\n",
    "We will implement the Gradient Descent algorithm to minimize the cost function of our model. The algorithm will iteratively adjust the weights to reduce the prediction error.\n"
   ]
  },
  {
   "cell_type": "code",
   "execution_count": 6,
   "metadata": {},
   "outputs": [],
   "source": [
    "def sigmoid(z):\n",
    "    return 1 / (1 + np.exp(-z))\n",
    "\n",
    "def compute_cost(X, y, weights):\n",
    "    m = len(y)\n",
    "    h = sigmoid(X.dot(weights))\n",
    "    epsilon = 1e-5  # to avoid log(0)\n",
    "    cost = (1/m) * ((-y).T.dot(np.log(h + epsilon)) - (1 - y).T.dot(np.log(1 - h + epsilon)))\n",
    "    return cost\n",
    "\n",
    "def gradient_descent(X, y, weights, learning_rate, iterations):\n",
    "    m = len(y)\n",
    "    cost_history = np.zeros(iterations)\n",
    "\n",
    "    for i in range(iterations):\n",
    "        weights = weights - (learning_rate/m) * X.T.dot(sigmoid(X.dot(weights)) - y)\n",
    "        cost_history[i] = compute_cost(X, y, weights)\n",
    "\n",
    "    return weights, cost_history\n"
   ]
  },
  {
   "cell_type": "markdown",
   "metadata": {},
   "source": [
    "## Model Training with Gradient Descent\n",
    "\n",
    "Next, we'll train our model using the Gradient Descent algorithm. We will track the cost function to ensure it's decreasing, indicating that our model is learning.\n"
   ]
  },
  {
   "cell_type": "code",
   "execution_count": 7,
   "metadata": {},
   "outputs": [
    {
     "name": "stderr",
     "output_type": "stream",
     "text": [
      "C:\\Users\\isabe\\AppData\\Local\\Temp\\ipykernel_15076\\789585029.py:17: DeprecationWarning: Conversion of an array with ndim > 0 to a scalar is deprecated, and will error in future. Ensure you extract a single element from your array before performing this operation. (Deprecated NumPy 1.25.)\n",
      "  cost_history[i] = compute_cost(X, y, weights)\n"
     ]
    },
    {
     "data": {
      "text/plain": [
       "Text(0.5, 1.0, 'Convergence of gradient descent')"
      ]
     },
     "execution_count": 7,
     "metadata": {},
     "output_type": "execute_result"
    },
    {
     "data": {
      "image/png": "[encoded data removed]",
      "text/plain": [
       "<Figure size 640x480 with 1 Axes>"
      ]
     },
     "metadata": {},
     "output_type": "display_data"
    }
   ],
   "source": [
    "# Preparing the data\n",
    "X = np.hstack((np.ones((selected_data.shape[0], 1)), selected_data[['initial_wt', 'final_wt']].values))\n",
    "y = selected_data['termite_discovery'].values.reshape(-1,1)\n",
    "\n",
    "# Initializing parameters\n",
    "weights = np.zeros((X.shape[1], 1))\n",
    "learning_rate = 0.01\n",
    "iterations = 1000\n",
    "\n",
    "# Training the model\n",
    "weights, cost_history = gradient_descent(X, y, weights, learning_rate, iterations)\n",
    "\n",
    "# Plotting the cost history\n",
    "plt.plot(range(1, iterations + 1), cost_history, color='blue')\n",
    "plt.rcParams[\"figure.figsize\"] = (10,6)\n",
    "plt.grid()\n",
    "plt.xlabel('Number of iterations')\n",
    "plt.ylabel('Cost (J)')\n",
    "plt.title('Convergence of gradient descent')\n"
   ]
  },
  {
   "cell_type": "markdown",
   "metadata": {},
   "source": [
    "## Conclusion\n",
    "\n",
    "The Gradient Descent algorithm successfully optimized the model's weights. The cost function's convergence indicates that the model's predictions became more accurate over iterations. This approach has proven effective for predicting termite discovery in our dataset, demonstrating the practical applications of machine learning techniques in ecological studies.\n"
   ]
  }
 ],
 "metadata": {
  "kernelspec": {
   "display_name": "Python 3",
   "language": "python",
   "name": "python3"
  },
  "language_info": {
   "codemirror_mode": {
    "name": "ipython",
    "version": 3
   },
   "file_extension": ".py",
   "mimetype": "text/x-python",
   "name": "python",
   "nbconvert_exporter": "python",
   "pygments_lexer": "ipython3",
   "version": "3.12.2"
  }
 },
 "nbformat": 4,
 "nbformat_minor": 2
}
