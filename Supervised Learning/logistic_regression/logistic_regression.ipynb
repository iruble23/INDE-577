{
 "cells": [
  {
   "cell_type": "markdown",
   "metadata": {},
   "source": [
    "## Logistic Regression Analysis for Termite Discovery\n",
    "\n",
    "This notebook explores the use of Logistic Regression to predict termite discovery based on variety of factors across the world. Our focus is to demonstrate how Logistic Regression can be applied to an ecological dataset for meaningful insights."
   ]
  },
  {
   "cell_type": "code",
   "execution_count": 9,
   "metadata": {},
   "outputs": [],
   "source": [
    "import pandas as pd\n",
    "import numpy as np\n",
    "from sklearn.model_selection import train_test_split\n",
    "from sklearn.linear_model import LogisticRegression\n",
    "from sklearn.metrics import accuracy_score, confusion_matrix\n",
    "from sklearn.preprocessing import StandardScaler, LabelEncoder\n",
    "import matplotlib.pyplot as plt\n",
    "import seaborn as sns\n",
    "\n",
    "# Load the dataset\n",
    "df = pd.read_csv(r'C:\\Users\\isabe\\INDE 577\\INDE-577\\global_termite_microbe_wd.csv')\n",
    "\n",
    "df.dropna(inplace=True)"
   ]
  },
  {
   "cell_type": "markdown",
   "metadata": {},
   "source": [
    "## Data Preprocessing\n",
    "\n",
    "In this section, we preprocess the data by selecting relevant features, handling missing values, encoding categorical variables, and normalizing numerical features. This step is crucial to prepare the dataset for effective model training.\n"
   ]
  },
  {
   "cell_type": "code",
   "execution_count": 10,
   "metadata": {},
   "outputs": [],
   "source": [
    "# Selecting a broader range of features\n",
    "features = ['wood_used', 'treatment', 'initial_wt', 'final_wt', 'N_pc', 'C_pc', 'P_pc', 'Mg_pc', 'Ca_pc', 'K_pc', 'Al_pc', 'Mn_pc', 'termite_discovery']\n",
    "country_data = df[features].dropna()\n",
    "\n",
    "# Encoding categorical data\n",
    "label_encoder = LabelEncoder()\n",
    "country_data['wood_used'] = label_encoder.fit_transform(country_data['wood_used'])\n",
    "country_data['treatment'] = label_encoder.fit_transform(country_data['treatment'])\n",
    "\n",
    "# Normalizing numerical features\n",
    "scaler = StandardScaler()\n",
    "numerical_features = ['initial_wt', 'final_wt', 'N_pc', 'C_pc', 'P_pc', 'Mg_pc', 'Ca_pc', 'K_pc', 'Al_pc', 'Mn_pc']\n",
    "country_data[numerical_features] = scaler.fit_transform(country_data[numerical_features])\n",
    "\n",
    "# Splitting the data into features and labels\n",
    "X = country_data.drop('termite_discovery', axis=1)\n",
    "y = country_data['termite_discovery'].astype('int')  # Ensure it's integer type for logistic regression\n",
    "\n",
    "# Splitting the dataset into training and testing sets\n",
    "X_train, X_test, y_train, y_test = train_test_split(X, y, test_size=0.2, random_state=42)\n",
    "\n"
   ]
  },
  {
   "cell_type": "markdown",
   "metadata": {},
   "source": [
    "## Logistic Regression Model Initialization and Training\n",
    "\n",
    "Following the preprocessing of our data, which includes encoding categorical variables and normalizing the features, we move forward with setting up our logistic regression model, using the sklearn package. After training, we evaluate the model's performance based on accuracy and a confusion matrix to understand its effectiveness in predicting termite discovery.\n",
    "\n",
    "### What is Logistic Regression?\n",
    "\n",
    "Logistic Regression is a statistical model used in machine learning for binary classification tasks. It estimates the probabilities using a logistic function, which is a cumulative logistic distribution. The central premise of the model is the assumption about the log-odds of the dependent variable:\n",
    "\n",
    "$$ \\ln\\left(\\frac{p}{1-p}\\right) = \\beta_0 + \\beta_1X_1 + \\beta_2X_2 + ... + \\beta_nX_n $$\n",
    "\n",
    "Here, \\( p \\) is the probability of one of the classes being `true` (e.g., termite discovery), \\( X \\) are the features, \\( \\beta \\) are the coefficients, and \\( \\beta_0 \\) is the intercept.\n",
    "\n",
    "### Training Logistic Regression\n",
    "\n",
    "We train the logistic regression model by fitting it to the data using the `fit` method, which involves maximizing the likelihood of the data under the logistic model. This process adjusts the weights \\( \\beta \\) to best predict the class label \\( y \\).\n",
    "\n",
    "Here is the code snippet to initialize and train our logistic regression model:"
   ]
  },
  {
   "cell_type": "code",
   "execution_count": 11,
   "metadata": {},
   "outputs": [
    {
     "name": "stdout",
     "output_type": "stream",
     "text": [
      "Accuracy: 0.8884615384615384\n",
      "Confusion Matrix:\n",
      " [[1318   47]\n",
      " [ 127   68]]\n"
     ]
    }
   ],
   "source": [
    "# Splitting the data into features and labels\n",
    "X = country_data.drop('termite_discovery', axis=1)\n",
    "y = country_data['termite_discovery']\n",
    "\n",
    "# Splitting the dataset into training and testing sets\n",
    "X_train, X_test, y_train, y_test = train_test_split(X, y, test_size=0.2, random_state=42)\n",
    "\n",
    "# Initializing and training the logistic regression model\n",
    "model = LogisticRegression()\n",
    "model.fit(X_train, y_train)\n",
    "\n",
    "# Making predictions\n",
    "y_pred = model.predict(X_test)\n",
    "\n",
    "# Evaluating the model\n",
    "accuracy = accuracy_score(y_test, y_pred)\n",
    "conf_mat = confusion_matrix(y_test, y_pred)\n",
    "\n",
    "print(\"Accuracy:\", accuracy)\n",
    "print(\"Confusion Matrix:\\n\", conf_mat)\n"
   ]
  },
  {
   "cell_type": "code",
   "execution_count": 12,
   "metadata": {},
   "outputs": [
    {
     "data": {
      "image/png": "[encoded data removed]",
      "text/plain": [
       "<Figure size 1000x800 with 1 Axes>"
      ]
     },
     "metadata": {},
     "output_type": "display_data"
    }
   ],
   "source": [
    "# View the confusion matrix using the seaborn package\n",
    "plt.figure(figsize = (10, 8))\n",
    "ax = sns.heatmap(conf_mat, annot=True, cmap='Blues', cbar=False, fmt='g')\n",
    "\n",
    "ax.set_title('Seaborn Confusion Matrix with labels\\n\\n');\n",
    "ax.set_xlabel('\\nPredicted Values')\n",
    "ax.set_ylabel('Actual Values ');\n",
    "\n",
    "## Ticket labels - List must be in alphabetical order\n",
    "ax.xaxis.set_ticklabels(['True', 'False'])\n",
    "ax.yaxis.set_ticklabels(['True','False'])\n",
    "plt.show()"
   ]
  },
  {
   "cell_type": "markdown",
   "metadata": {},
   "source": [
    "## Conclusion \n",
    "\n",
    "This logistic regression analysis demonstrated a high overall accuracy of 88.85%, indicating a strong ability to classify the majority of cases correctly. However, the detailed examination of the confusion matrix reveals some areas for improvement, particularly in correctly identifying actual termite discoveries.\n",
    "\n",
    "### Performance Breakdown\n",
    "\n",
    "- The model showed excellent capability in identifying situations where termites were not present, with a high number of true negatives (1318).\n",
    "- Conversely, it was less effective in detecting true termite discoveries, as indicated by the 127 false negatives and only 68 true positives.\n",
    "\n",
    "### Implications\n",
    "\n",
    "The imbalance in performance suggests that while the model is reliable for predicting the absence of termites, it could benefit from enhancements to better detect their presence. This is crucial for practical applications where failing to detect termites could lead to significant economic or ecological damage.\n",
    "\n",
    "\n"
   ]
  }
 ],
 "metadata": {
  "kernelspec": {
   "display_name": "Python 3",
   "language": "python",
   "name": "python3"
  },
  "language_info": {
   "codemirror_mode": {
    "name": "ipython",
    "version": 3
   },
   "file_extension": ".py",
   "mimetype": "text/x-python",
   "name": "python",
   "nbconvert_exporter": "python",
   "pygments_lexer": "ipython3",
   "version": "3.12.2"
  }
 },
 "nbformat": 4,
 "nbformat_minor": 2
}
